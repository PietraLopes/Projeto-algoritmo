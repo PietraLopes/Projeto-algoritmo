{
  "cells": [
    {
      "metadata": {},
      "cell_type": "markdown",
      "source": "# Projeto de Algoritmos: Moradores de rua"
    },
    {
      "metadata": {},
      "cell_type": "markdown",
      "source": "Nesse problema abordaremos a situação dos moradores de rua,como roubo,assassinato e vulnerabilidade, fazendo uma conexão do serviço social com a polícia e serviço social com a prefeitura de acordo com cada necessidade."
    },
    {
      "metadata": {},
      "cell_type": "markdown",
      "source": "## Fase 1: Oficina de Modelagem do Problema"
    },
    {
      "metadata": {},
      "cell_type": "markdown",
      "source": "#### - Roubo\nMorador de rua morre após ser espancado em tentativa de assalto Itapetininga, interior de SP\n\nSegundo a polícia, crime ocorreu após homem e adolescente tentarem roubar a bolsa do morador de rua na Praça Nossa Senhora Aparecida, em Itapetininga.\n\n<img src = 'img1.jpg' width='200' weight = '266'>\n\nFonte:https://g1.globo.com/sp/itapetininga-regiao/noticia/2018/10/16/morador-de-rua-morre-apos-ser-espancado-em-tentativa-de-assalto-no-interior-de-sp.ghtml\n\n#### - Assassinato\nVítima passava de carro por avenida de Vila Velha quando foi atingida.Suspeito é morador de rua e usuário de drogas, segundo a polícia.\n\n<img src = 'img2.jpg' width='200' weight = '266'>\n\nFonte: https://www.noticiaagora.com.br/policia/2018/05/homem-que-atirou-vergalhao-em-mulher-e-levado-para-presidio-no-es-1014129998.html\n\n#### - Vulnerabilidade\nMendigo é humilhado, agredido e colocado para fora de supermercado aos tapas e empurrões, em Cuiabá\n\n<img src = 'img3.jpg' width='200' weight = '266'>\n\nHumilhado porque estava com fome!\n\nFonte: https://www.24horasnews.com.br/noticia/medndigo-e-humilhado-agredo-e-colocado-para-fora-de-supermercado-aos-tapas-e-empurroes-em-cuiaba.\n\n#### - Agressão\nMorador de rua agredido!\n\n<img src = 'img4.jpg' widht='200' weight = '266'>\n\nFonte: https://jornalggn.com.br/direitos-humanos/em-video-homem-que-espancou-morador-de-rua-se-gaba-de-agressoes.\n\n#### Resumo\nDe acordo com os meios de comunicação,sempre somos informados de roubos, assassinatos e vulnerabilidades envolvendo moradores de rua; e de acordo com que vermos através dos meios de comunicação; A polícia diz que não pode fazer nada, que é trabalho das prefeituras; As prefeituras dizem que tem um trabalho com serviço social para recolhimento dos moradores de rua; O serviço social reclama da falta de retorno da polícia e das prefeituras. Baseando-se nas informações dos meios de comunicação e das nossas próprias vivências com a situação no dia dia, resolvemos trazer esse problema."
    },
    {
      "metadata": {},
      "cell_type": "markdown",
      "source": "## Fase 2: Fechamento do Escobo do Problema \n"
    },
    {
      "metadata": {},
      "cell_type": "markdown",
      "source": "Como esse problema social é muito amplo e uma solução ao nosso alcance não há. E como envolve muitas secretarias, vamos fazer uma conexão direta de uma com a outra, tentando acelerar dessa forma os trâmites legais; resolvemos fazer uma conexão do serviço social com a polícia, serviço social com a prefeitura, interagindo entre si de acordo com cada necessidade."
    },
    {
      "metadata": {},
      "cell_type": "markdown",
      "source": "## Fase 3: Identificação de Formas de Solucionar"
    },
    {
      "metadata": {},
      "cell_type": "markdown",
      "source": "Será feito um relatório para cada pessoa que sofreu com alguns dos problemas citados acima.\nDepois que o relatório estiver pronto, ele será enviado para as autoridades como: serviço social, polícia e prefeitura\n\n    \n    \n\n"
    },
    {
      "metadata": {},
      "cell_type": "markdown",
      "source": "## Fase 4: Implementação"
    },
    {
      "metadata": {
        "trusted": true
      },
      "cell_type": "code",
      "source": "problema = {} \n\nlistaLocal = []\nlistaNome = []\ncrimes = ['1-roubo','2-agressão','3-vunerabilidade','4-assassinato','5-outros']\n\ncontinuar = True \n\nwhile continuar == True:\n  nome = input(\" Digite seu nome: \")\n  local = input(\" Digite o nome da cidade em que ocorreu o problema: \")\n  relatorio = \"\"\n  print('Problemas que acontecem frequentemente nas ruas:',crimes)\n  resposta = input(\" Digite o número de acordo com seu problema: \")\n  listaNome.append(nome)\n  listaLocal.append(local) \n\n  if resposta == \"1\":\n    relatorio = \"roubo\"\n  \n  elif resposta == \"2\":\n    relatorio = \"agressao\"\n  \n  elif resposta == \"3\":\n    relatorio = \"vunerabilidade\"\n  \n  elif resposta == \"4\":\n    relatorio = \"assassinato\"\n\n  else:\n    relatorio = \"outros\"\n\n  problema[nome] = local,relatorio\n  \n\n\n\n  cont = input(\" Deseja continuar fazendo mais relatório? S|N:\").upper()\n\n  if cont == \"SIM\" or cont == \"S\":\n    continuar = True\n  else:\n    continuar = False \n \nprint (problema)\n   ",
      "execution_count": 1,
      "outputs": [
        {
          "output_type": "stream",
          "name": "stdout",
          "text": " Digite seu nome: pietra \n Digite o nome da cidade em que ocorreu o problema: serra\nProblemas que acontecem frequentemente nas ruas: ['1-roubo', '2-agressão', '3-vunerabilidade', '4-assassinato', '5-outros']\n Digite o número de acordo com seu problema: 1\n Deseja continuar fazendo mais relatório? S|N:S\n Digite seu nome: ana\n Digite o nome da cidade em que ocorreu o problema: vila velha\nProblemas que acontecem frequentemente nas ruas: ['1-roubo', '2-agressão', '3-vunerabilidade', '4-assassinato', '5-outros']\n Digite o número de acordo com seu problema: 4\n Deseja continuar fazendo mais relatório? S|N:N\n{'pietra ': ('serra', 'roubo'), 'ana': ('vila velha', 'assassinato')}\n"
        }
      ]
    },
    {
      "metadata": {},
      "cell_type": "markdown",
      "source": "# Fase 5: Validação e Fechamento"
    },
    {
      "metadata": {
        "trusted": true
      },
      "cell_type": "markdown",
      "source": "Averiguação da solução\nComo esse problema social é muito amplo e uma solução ao nosso alcance não há.  E devido informações dos meios de comunicação, TV, redes sociais etc. São sempre os mesmos problemas para solucionar. \nA polícia diz:  que é da alçada da Prefeitura;\nA Prefeitura diz: que é da alçada do serviço social e que tem abrigos disponíveis para tirar esses moradores da rua. \nO serviço social diz: Que falta um retorno da Prefeitura e da Polícia.\n \n\nReflexão\nTendo em vista a falta de conexão direta de uma secretaria com a outra, refletimos em fazer uma programação fazendo uma conexão entre essas secretarias. Fazendo  uma conexão do serviço social com a polícia,polícia e serviço social,serviço social com a prefeitura, interagindo entre si de acordo com cada necessidade.\n\nConsiderações finais\n\nBaseando-se nas informações dos meios de comunicação e das nossas próprias vivências  com  a situação no dia dia, resolvemos  trazer esse problema; tentando amenizar a situação fazendo uma programação conectando essas secretarias, tendo como secretaria principal serviço social, já que esta fica em contato direto com o morador de rua e faz o relatório de cada.\n\n\n"
    }
  ],
  "metadata": {
    "kernelspec": {
      "name": "python36",
      "display_name": "Python 3.6",
      "language": "python"
    },
    "language_info": {
      "mimetype": "text/x-python",
      "nbconvert_exporter": "python",
      "name": "python",
      "pygments_lexer": "ipython3",
      "version": "3.6.6",
      "file_extension": ".py",
      "codemirror_mode": {
        "version": 3,
        "name": "ipython"
      }
    }
  },
  "nbformat": 4,
  "nbformat_minor": 2
}