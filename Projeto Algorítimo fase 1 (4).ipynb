{
  "cells": [
    {
      "metadata": {},
      "cell_type": "markdown",
      "source": "## Projeto Algorítimo: Moradores de rua\nFase 1 do Projeto: Modelagem do problema\n\nNesse problema abordaremos a situação dos moradores de rua,como roubo,assassinato e vulnerabilidade, fazendo uma conexão do serviço social com a polícia e serviço social com a prefeitura de acordo com cada necessidade.\n"
    },
    {
      "metadata": {},
      "cell_type": "markdown",
      "source": "## -Roubo\n\nMorador de rua morre após ser espancado em tentativa de assalto Itapetininga, interior de SP\n\nSegundo a polícia, crime ocorreu após homem e adolescente tentarem roubar a bolsa do morador de rua na Praça Nossa Senhora Aparecida, em Itapetininga.\n\n\n\n<
      src = 'img1.jpg' width='200' height = '266'>\n\n\n\nFonte: https://g1.globo.com/sp/itapetininga-regiao/noticia/2018/10/16/morador-de-rua-morre-apos-ser-espancado-em-tentativa-de-assalto-no-interior-de-sp.ghtml"
    },
    {
      "metadata": {},
      "cell_type": "markdown",
      "source": "## -Assassinato\nVítima passava de carro por avenida de Vila Velha quando foi atingida.Suspeito é morador de rua e usuário de drogas, segundo a polícia.\n\n\n\n\n<img src = 'img2.jpg' width='200' height = '266'>\n\n\n\n\n\n\nFonte: https://www.noticiaagora.com.br/policia/2018/05/homem-que-atirou-vergalhao-em-mulher-e-levado-para-presidio-no-es-1014129998.html\n"
    },
    {
      "metadata": {},
      "cell_type": "markdown",
      "source": "## -Vulnerabilidade\nMendigo é humilhado, agredido e colocado para fora de supermercado aos tapas e empurrões, em Cuiabá\n\n\n\n<img src = 'img3.jpg' width='200' height = '266'>\n\n\n\nHumilhado porque estava com fome!\n\n\nFonte: https://www.24horasnews.com.br/noticia/medndigo-e-humilhado-agredo-e-colocado-para-fora-de-supermercado-aos-tapas-e-empurroes-em-cuiaba.\n\n\nMorador de rua agredido!\n\n\n<img src = 'img4.jpg' widtH='200' height = '266'>\n\n\n\nFonte: https://jornalggn.com.br/direitos-humanos/em-video-homem-que-espancou-morador-de-rua-se-gaba-de-agressoes.\n\n\n"
    },
    {
      "metadata": {},
      "cell_type": "markdown",
      "source": "## Resumo\nDe acordo com os meios de comunicação,sempre somos informados de roubos, assassinatos e vulnerabilidades envolvendo moradores de rua; e de acordo com que vermos através dos meios de comunicação; \nA polícia diz que não pode fazer nada, que é trabalho das prefeituras;\nAs prefeituras dizem que tem um trabalho com serviço social para recolhimento dos moradores de rua;\nO serviço social reclama da falta de retorno da polícia e das prefeituras.\nBaseando-se nas informações dos meios de comunicação e das nossas próprias vivências  com  a situação no dia dia, resolvemos  trazer esse problema.\n\n"
    }
  ],
  "metadata": {
    "kernelspec": {
      "name": "python36",
      "display_name": "Python 3.6",
      "language": "python"
    },
    "language_info": {
      "mimetype": "text/x-python",
      "nbconvert_exporter": "python",
      "name": "python",
      "pygments_lexer": "ipython3",
      "version": "3.6.6",
      "file_extension": ".py",
      "codemirror_mode": {
        "version": 3,
        "name": "ipython"
      }
    }
  },
  "nbformat": 4,
  "nbformat_minor": 2
}
